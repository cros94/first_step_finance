{
 "cells": [
  {
   "cell_type": "code",
   "execution_count": 211,
   "metadata": {},
   "outputs": [
    {
     "name": "stdout",
     "output_type": "stream",
     "text": [
      "Requirement already satisfied: pandas in c:\\users\\catal\\miniconda3\\envs\\yfin\\lib\\site-packages (2.1.1)\n",
      "Requirement already satisfied: numpy>=1.22.4 in c:\\users\\catal\\miniconda3\\envs\\yfin\\lib\\site-packages (from pandas) (1.25.2)\n",
      "Requirement already satisfied: python-dateutil>=2.8.2 in c:\\users\\catal\\appdata\\roaming\\python\\python310\\site-packages (from pandas) (2.8.2)\n",
      "Requirement already satisfied: pytz>=2020.1 in c:\\users\\catal\\miniconda3\\envs\\yfin\\lib\\site-packages (from pandas) (2023.3.post1)\n",
      "Requirement already satisfied: tzdata>=2022.1 in c:\\users\\catal\\miniconda3\\envs\\yfin\\lib\\site-packages (from pandas) (2023.3)\n",
      "Requirement already satisfied: six>=1.5 in c:\\users\\catal\\appdata\\roaming\\python\\python310\\site-packages (from python-dateutil>=2.8.2->pandas) (1.16.0)\n",
      "Note: you may need to restart the kernel to use updated packages.\n",
      "Requirement already satisfied: yfinance in c:\\users\\catal\\miniconda3\\envs\\yfin\\lib\\site-packages (0.2.29)\n",
      "Requirement already satisfied: pandas>=1.3.0 in c:\\users\\catal\\miniconda3\\envs\\yfin\\lib\\site-packages (from yfinance) (2.1.1)\n",
      "Requirement already satisfied: numpy>=1.16.5 in c:\\users\\catal\\miniconda3\\envs\\yfin\\lib\\site-packages (from yfinance) (1.25.2)\n",
      "Requirement already satisfied: requests>=2.31 in c:\\users\\catal\\miniconda3\\envs\\yfin\\lib\\site-packages (from yfinance) (2.31.0)\n",
      "Requirement already satisfied: multitasking>=0.0.7 in c:\\users\\catal\\miniconda3\\envs\\yfin\\lib\\site-packages (from yfinance) (0.0.11)\n",
      "Requirement already satisfied: lxml>=4.9.1 in c:\\users\\catal\\miniconda3\\envs\\yfin\\lib\\site-packages (from yfinance) (4.9.3)\n",
      "Requirement already satisfied: appdirs>=1.4.4 in c:\\users\\catal\\miniconda3\\envs\\yfin\\lib\\site-packages (from yfinance) (1.4.4)\n",
      "Requirement already satisfied: pytz>=2022.5 in c:\\users\\catal\\miniconda3\\envs\\yfin\\lib\\site-packages (from yfinance) (2023.3.post1)\n",
      "Requirement already satisfied: frozendict>=2.3.4 in c:\\users\\catal\\miniconda3\\envs\\yfin\\lib\\site-packages (from yfinance) (2.3.8)\n",
      "Requirement already satisfied: peewee>=3.16.2 in c:\\users\\catal\\miniconda3\\envs\\yfin\\lib\\site-packages (from yfinance) (3.16.3)\n",
      "Requirement already satisfied: beautifulsoup4>=4.11.1 in c:\\users\\catal\\miniconda3\\envs\\yfin\\lib\\site-packages (from yfinance) (4.12.2)\n",
      "Requirement already satisfied: html5lib>=1.1 in c:\\users\\catal\\miniconda3\\envs\\yfin\\lib\\site-packages (from yfinance) (1.1)\n",
      "Requirement already satisfied: soupsieve>1.2 in c:\\users\\catal\\miniconda3\\envs\\yfin\\lib\\site-packages (from beautifulsoup4>=4.11.1->yfinance) (2.4)\n",
      "Requirement already satisfied: six>=1.9 in c:\\users\\catal\\appdata\\roaming\\python\\python310\\site-packages (from html5lib>=1.1->yfinance) (1.16.0)\n",
      "Requirement already satisfied: webencodings in c:\\users\\catal\\miniconda3\\envs\\yfin\\lib\\site-packages (from html5lib>=1.1->yfinance) (0.5.1)\n",
      "Requirement already satisfied: python-dateutil>=2.8.2 in c:\\users\\catal\\appdata\\roaming\\python\\python310\\site-packages (from pandas>=1.3.0->yfinance) (2.8.2)\n",
      "Requirement already satisfied: tzdata>=2022.1 in c:\\users\\catal\\miniconda3\\envs\\yfin\\lib\\site-packages (from pandas>=1.3.0->yfinance) (2023.3)\n",
      "Requirement already satisfied: charset-normalizer<4,>=2 in c:\\users\\catal\\miniconda3\\envs\\yfin\\lib\\site-packages (from requests>=2.31->yfinance) (2.0.4)\n",
      "Requirement already satisfied: idna<4,>=2.5 in c:\\users\\catal\\miniconda3\\envs\\yfin\\lib\\site-packages (from requests>=2.31->yfinance) (3.4)\n",
      "Requirement already satisfied: urllib3<3,>=1.21.1 in c:\\users\\catal\\miniconda3\\envs\\yfin\\lib\\site-packages (from requests>=2.31->yfinance) (1.26.16)\n",
      "Requirement already satisfied: certifi>=2017.4.17 in c:\\users\\catal\\miniconda3\\envs\\yfin\\lib\\site-packages (from requests>=2.31->yfinance) (2023.7.22)\n",
      "Note: you may need to restart the kernel to use updated packages.\n"
     ]
    }
   ],
   "source": [
    "%pip install pandas\n",
    "%pip install yfinance"
   ]
  },
  {
   "cell_type": "code",
   "execution_count": 212,
   "metadata": {},
   "outputs": [],
   "source": [
    "import yfinance as yf #yfinance = libreria che permette di recuperare i valori in borsa delle aziende quotate\n",
    "import pandas as pd"
   ]
  },
  {
   "cell_type": "code",
   "execution_count": 213,
   "metadata": {},
   "outputs": [],
   "source": [
    "apple = yf.Ticker(\"AAPL\") #la funzione ticker fa parte della libreria yf. Recupera i dati di una azienda data una sigla in input\n",
    "google = yf.Ticker(\"GOOG\")\n",
    "amd = yf.Ticker(\"AMD\")"
   ]
  },
  {
   "cell_type": "code",
   "execution_count": 214,
   "metadata": {},
   "outputs": [],
   "source": [
    "apple_share_price = apple.history(start='2005-01-01') #Scarico df storico valore share\n",
    "google_share_price = google.history(start='2005-01-01')\n",
    "amd_share_price = amd.history(start='2005-01-01')\n"
   ]
  },
  {
   "cell_type": "code",
   "execution_count": 215,
   "metadata": {},
   "outputs": [
    {
     "name": "stderr",
     "output_type": "stream",
     "text": [
      "C:\\Users\\catal\\AppData\\Local\\Temp\\ipykernel_15460\\1399576470.py:3: SettingWithCopyWarning: \n",
      "A value is trying to be set on a copy of a slice from a DataFrame\n",
      "\n",
      "See the caveats in the documentation: https://pandas.pydata.org/pandas-docs/stable/user_guide/indexing.html#returning-a-view-versus-a-copy\n",
      "  apple_simplified.rename(columns={'Open': 'Open_Apple'}, inplace=True)\n",
      "C:\\Users\\catal\\AppData\\Local\\Temp\\ipykernel_15460\\1399576470.py:4: SettingWithCopyWarning: \n",
      "A value is trying to be set on a copy of a slice from a DataFrame\n",
      "\n",
      "See the caveats in the documentation: https://pandas.pydata.org/pandas-docs/stable/user_guide/indexing.html#returning-a-view-versus-a-copy\n",
      "  apple_simplified.rename(columns={'Date': 'Date_Apple'}, inplace=True)\n"
     ]
    }
   ],
   "source": [
    "apple_share_price.reset_index(inplace=True)\n",
    "apple_simplified = apple_share_price[['Date','Open']]\n",
    "apple_simplified.rename(columns={'Open': 'Open_Apple'}, inplace=True)\n",
    "apple_simplified.rename(columns={'Date': 'Date_Apple'}, inplace=True)\n"
   ]
  },
  {
   "cell_type": "code",
   "execution_count": 216,
   "metadata": {},
   "outputs": [
    {
     "name": "stderr",
     "output_type": "stream",
     "text": [
      "C:\\Users\\catal\\AppData\\Local\\Temp\\ipykernel_15460\\902593847.py:3: SettingWithCopyWarning: \n",
      "A value is trying to be set on a copy of a slice from a DataFrame\n",
      "\n",
      "See the caveats in the documentation: https://pandas.pydata.org/pandas-docs/stable/user_guide/indexing.html#returning-a-view-versus-a-copy\n",
      "  google_simplified.rename(columns={'Open': 'Open_Google'}, inplace=True)\n",
      "C:\\Users\\catal\\AppData\\Local\\Temp\\ipykernel_15460\\902593847.py:4: SettingWithCopyWarning: \n",
      "A value is trying to be set on a copy of a slice from a DataFrame\n",
      "\n",
      "See the caveats in the documentation: https://pandas.pydata.org/pandas-docs/stable/user_guide/indexing.html#returning-a-view-versus-a-copy\n",
      "  google_simplified.rename(columns={'Date': 'Date_Google'}, inplace=True)\n"
     ]
    }
   ],
   "source": [
    "google_share_price.reset_index(inplace=True)\n",
    "google_simplified = google_share_price[['Date','Open']]\n",
    "google_simplified.rename(columns={'Open': 'Open_Google'}, inplace=True)\n",
    "google_simplified.rename(columns={'Date': 'Date_Google'}, inplace=True)"
   ]
  },
  {
   "cell_type": "code",
   "execution_count": 217,
   "metadata": {},
   "outputs": [
    {
     "name": "stderr",
     "output_type": "stream",
     "text": [
      "C:\\Users\\catal\\AppData\\Local\\Temp\\ipykernel_15460\\243991442.py:3: SettingWithCopyWarning: \n",
      "A value is trying to be set on a copy of a slice from a DataFrame\n",
      "\n",
      "See the caveats in the documentation: https://pandas.pydata.org/pandas-docs/stable/user_guide/indexing.html#returning-a-view-versus-a-copy\n",
      "  amd_simplified.rename(columns={'Open': 'Open_Amd'}, inplace=True)\n",
      "C:\\Users\\catal\\AppData\\Local\\Temp\\ipykernel_15460\\243991442.py:4: SettingWithCopyWarning: \n",
      "A value is trying to be set on a copy of a slice from a DataFrame\n",
      "\n",
      "See the caveats in the documentation: https://pandas.pydata.org/pandas-docs/stable/user_guide/indexing.html#returning-a-view-versus-a-copy\n",
      "  amd_simplified.rename(columns={'Date': 'Date_Amd'}, inplace=True)\n"
     ]
    },
    {
     "data": {
      "text/html": [
       "<div>\n",
       "<style scoped>\n",
       "    .dataframe tbody tr th:only-of-type {\n",
       "        vertical-align: middle;\n",
       "    }\n",
       "\n",
       "    .dataframe tbody tr th {\n",
       "        vertical-align: top;\n",
       "    }\n",
       "\n",
       "    .dataframe thead th {\n",
       "        text-align: right;\n",
       "    }\n",
       "</style>\n",
       "<table border=\"1\" class=\"dataframe\">\n",
       "  <thead>\n",
       "    <tr style=\"text-align: right;\">\n",
       "      <th></th>\n",
       "      <th>Date_Amd</th>\n",
       "      <th>Open_Amd</th>\n",
       "    </tr>\n",
       "  </thead>\n",
       "  <tbody>\n",
       "    <tr>\n",
       "      <th>0</th>\n",
       "      <td>2005-01-03 00:00:00-05:00</td>\n",
       "      <td>22.110001</td>\n",
       "    </tr>\n",
       "    <tr>\n",
       "      <th>1</th>\n",
       "      <td>2005-01-04 00:00:00-05:00</td>\n",
       "      <td>21.480000</td>\n",
       "    </tr>\n",
       "    <tr>\n",
       "      <th>2</th>\n",
       "      <td>2005-01-05 00:00:00-05:00</td>\n",
       "      <td>20.320000</td>\n",
       "    </tr>\n",
       "    <tr>\n",
       "      <th>3</th>\n",
       "      <td>2005-01-06 00:00:00-05:00</td>\n",
       "      <td>20.070000</td>\n",
       "    </tr>\n",
       "    <tr>\n",
       "      <th>4</th>\n",
       "      <td>2005-01-07 00:00:00-05:00</td>\n",
       "      <td>19.910000</td>\n",
       "    </tr>\n",
       "  </tbody>\n",
       "</table>\n",
       "</div>"
      ],
      "text/plain": [
       "                   Date_Amd   Open_Amd\n",
       "0 2005-01-03 00:00:00-05:00  22.110001\n",
       "1 2005-01-04 00:00:00-05:00  21.480000\n",
       "2 2005-01-05 00:00:00-05:00  20.320000\n",
       "3 2005-01-06 00:00:00-05:00  20.070000\n",
       "4 2005-01-07 00:00:00-05:00  19.910000"
      ]
     },
     "execution_count": 217,
     "metadata": {},
     "output_type": "execute_result"
    }
   ],
   "source": [
    "amd_share_price.reset_index(inplace=True)\n",
    "amd_simplified = amd_share_price[['Date','Open']]\n",
    "amd_simplified.rename(columns={'Open': 'Open_Amd'}, inplace=True)\n",
    "amd_simplified.rename(columns={'Date': 'Date_Amd'}, inplace=True)\n",
    "amd_simplified.head()"
   ]
  },
  {
   "cell_type": "code",
   "execution_count": 218,
   "metadata": {},
   "outputs": [
    {
     "data": {
      "text/html": [
       "<div>\n",
       "<style scoped>\n",
       "    .dataframe tbody tr th:only-of-type {\n",
       "        vertical-align: middle;\n",
       "    }\n",
       "\n",
       "    .dataframe tbody tr th {\n",
       "        vertical-align: top;\n",
       "    }\n",
       "\n",
       "    .dataframe thead th {\n",
       "        text-align: right;\n",
       "    }\n",
       "</style>\n",
       "<table border=\"1\" class=\"dataframe\">\n",
       "  <thead>\n",
       "    <tr style=\"text-align: right;\">\n",
       "      <th></th>\n",
       "      <th>Date_Apple</th>\n",
       "      <th>Open_Apple</th>\n",
       "      <th>Open_Google</th>\n",
       "      <th>Open_Amd</th>\n",
       "    </tr>\n",
       "  </thead>\n",
       "  <tbody>\n",
       "    <tr>\n",
       "      <th>0</th>\n",
       "      <td>2005-01-03 00:00:00-05:00</td>\n",
       "      <td>0.981876</td>\n",
       "      <td>4.916571</td>\n",
       "      <td>22.110001</td>\n",
       "    </tr>\n",
       "    <tr>\n",
       "      <th>1</th>\n",
       "      <td>2005-01-04 00:00:00-05:00</td>\n",
       "      <td>0.966870</td>\n",
       "      <td>5.016198</td>\n",
       "      <td>21.480000</td>\n",
       "    </tr>\n",
       "    <tr>\n",
       "      <th>2</th>\n",
       "      <td>2005-01-05 00:00:00-05:00</td>\n",
       "      <td>0.977025</td>\n",
       "      <td>4.818190</td>\n",
       "      <td>20.320000</td>\n",
       "    </tr>\n",
       "    <tr>\n",
       "      <th>3</th>\n",
       "      <td>2005-01-06 00:00:00-05:00</td>\n",
       "      <td>0.980208</td>\n",
       "      <td>4.858788</td>\n",
       "      <td>20.070000</td>\n",
       "    </tr>\n",
       "    <tr>\n",
       "      <th>4</th>\n",
       "      <td>2005-01-07 00:00:00-05:00</td>\n",
       "      <td>0.985210</td>\n",
       "      <td>4.748203</td>\n",
       "      <td>19.910000</td>\n",
       "    </tr>\n",
       "    <tr>\n",
       "      <th>...</th>\n",
       "      <td>...</td>\n",
       "      <td>...</td>\n",
       "      <td>...</td>\n",
       "      <td>...</td>\n",
       "    </tr>\n",
       "    <tr>\n",
       "      <th>4708</th>\n",
       "      <td>2023-09-18 00:00:00-04:00</td>\n",
       "      <td>176.479996</td>\n",
       "      <td>137.630005</td>\n",
       "      <td>100.820000</td>\n",
       "    </tr>\n",
       "    <tr>\n",
       "      <th>4709</th>\n",
       "      <td>2023-09-19 00:00:00-04:00</td>\n",
       "      <td>177.520004</td>\n",
       "      <td>138.250000</td>\n",
       "      <td>101.750000</td>\n",
       "    </tr>\n",
       "    <tr>\n",
       "      <th>4710</th>\n",
       "      <td>2023-09-20 00:00:00-04:00</td>\n",
       "      <td>179.259995</td>\n",
       "      <td>138.830002</td>\n",
       "      <td>102.360001</td>\n",
       "    </tr>\n",
       "    <tr>\n",
       "      <th>4711</th>\n",
       "      <td>2023-09-21 00:00:00-04:00</td>\n",
       "      <td>174.550003</td>\n",
       "      <td>132.389999</td>\n",
       "      <td>98.599998</td>\n",
       "    </tr>\n",
       "    <tr>\n",
       "      <th>4712</th>\n",
       "      <td>2023-09-22 00:00:00-04:00</td>\n",
       "      <td>174.669998</td>\n",
       "      <td>131.679993</td>\n",
       "      <td>96.919998</td>\n",
       "    </tr>\n",
       "  </tbody>\n",
       "</table>\n",
       "<p>4713 rows × 4 columns</p>\n",
       "</div>"
      ],
      "text/plain": [
       "                    Date_Apple  Open_Apple  Open_Google    Open_Amd\n",
       "0    2005-01-03 00:00:00-05:00    0.981876     4.916571   22.110001\n",
       "1    2005-01-04 00:00:00-05:00    0.966870     5.016198   21.480000\n",
       "2    2005-01-05 00:00:00-05:00    0.977025     4.818190   20.320000\n",
       "3    2005-01-06 00:00:00-05:00    0.980208     4.858788   20.070000\n",
       "4    2005-01-07 00:00:00-05:00    0.985210     4.748203   19.910000\n",
       "...                        ...         ...          ...         ...\n",
       "4708 2023-09-18 00:00:00-04:00  176.479996   137.630005  100.820000\n",
       "4709 2023-09-19 00:00:00-04:00  177.520004   138.250000  101.750000\n",
       "4710 2023-09-20 00:00:00-04:00  179.259995   138.830002  102.360001\n",
       "4711 2023-09-21 00:00:00-04:00  174.550003   132.389999   98.599998\n",
       "4712 2023-09-22 00:00:00-04:00  174.669998   131.679993   96.919998\n",
       "\n",
       "[4713 rows x 4 columns]"
      ]
     },
     "execution_count": 218,
     "metadata": {},
     "output_type": "execute_result"
    }
   ],
   "source": [
    "c_df = pd.concat([apple_simplified, google_simplified, amd_simplified], axis=1)\n",
    "c_df.reset_index(drop=True,inplace=True)"
   ]
  },
  {
   "cell_type": "code",
   "execution_count": 219,
   "metadata": {},
   "outputs": [
    {
     "data": {
      "text/plain": [
       "<Axes: xlabel='Date_Apple'>"
      ]
     },
     "execution_count": 219,
     "metadata": {},
     "output_type": "execute_result"
    },
    {
     "data": {
      "image/png": "[encoded data removed]",
      "text/plain": [
       "<Figure size 640x480 with 1 Axes>"
      ]
     },
     "metadata": {},
     "output_type": "display_data"
    }
   ],
   "source": [
    "c_df.plot(x = 'Date_Apple', y=['Open_Apple','Open_Google','Open_Amd'])"
   ]
  },
  {
   "cell_type": "code",
   "execution_count": null,
   "metadata": {},
   "outputs": [],
   "source": []
  }
 ],
 "metadata": {
  "kernelspec": {
   "display_name": "myenv",
   "language": "python",
   "name": "python3"
  },
  "language_info": {
   "codemirror_mode": {
    "name": "ipython",
    "version": 3
   },
   "file_extension": ".py",
   "mimetype": "text/x-python",
   "name": "python",
   "nbconvert_exporter": "python",
   "pygments_lexer": "ipython3",
   "version": "3.10.13"
  },
  "orig_nbformat": 4
 },
 "nbformat": 4,
 "nbformat_minor": 2
}
