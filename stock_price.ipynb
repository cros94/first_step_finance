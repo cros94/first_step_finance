{
 "cells": [
  {
   "cell_type": "code",
   "execution_count": null,
   "metadata": {},
   "outputs": [],
   "source": [
    "%pip install pandas\n",
    "%pip install yfinance"
   ]
  },
  {
   "cell_type": "code",
   "execution_count": null,
   "metadata": {},
   "outputs": [],
   "source": [
    "import yfinance as yf #yfinance = libreria che permette di recuperare i valori in borsa delle aziende quotate\n",
    "import pandas as pd"
   ]
  },
  {
   "cell_type": "code",
   "execution_count": null,
   "metadata": {},
   "outputs": [],
   "source": [
    "apple = yf.Ticker(\"AAPL\") #la funzione ticker fa parte della libreria yf. Recupera i dati di una azienda data una sigla in input\n",
    "google = yf.Ticker(\"GOOG\")\n",
    "amd = yf.Ticker(\"AMD\")"
   ]
  },
  {
   "cell_type": "code",
   "execution_count": null,
   "metadata": {},
   "outputs": [],
   "source": [
    "apple_share_price = apple.history(start='2005-01-01') #Scarico df storico valore share\n",
    "google_share_price = google.history(start='2005-01-01')\n",
    "amd_share_price = amd.history(start='2005-01-01')\n"
   ]
  },
  {
   "cell_type": "code",
   "execution_count": null,
   "metadata": {},
   "outputs": [],
   "source": [
    "apple_share_price.reset_index(inplace=True)\n",
    "apple_simplified = apple_share_price[['Date','Open']]\n",
    "apple_simplified.rename(columns={'Open': 'Open_Apple'}, inplace=True)\n",
    "apple_simplified.rename(columns={'Date': 'Date_Apple'}, inplace=True)\n"
   ]
  },
  {
   "cell_type": "code",
   "execution_count": null,
   "metadata": {},
   "outputs": [],
   "source": [
    "google_share_price.reset_index(inplace=True)\n",
    "google_simplified = google_share_price[['Date','Open']]\n",
    "google_simplified.rename(columns={'Open': 'Open_Google'}, inplace=True)\n",
    "google_simplified.rename(columns={'Date': 'Date_Google'}, inplace=True)"
   ]
  },
  {
   "cell_type": "code",
   "execution_count": null,
   "metadata": {},
   "outputs": [],
   "source": [
    "amd_share_price.reset_index(inplace=True)\n",
    "amd_simplified = amd_share_price[['Date','Open']]\n",
    "amd_simplified.rename(columns={'Open': 'Open_Amd'}, inplace=True)\n",
    "amd_simplified.rename(columns={'Date': 'Date_Amd'}, inplace=True)\n",
    "amd_simplified.head()"
   ]
  },
  {
   "cell_type": "code",
   "execution_count": null,
   "metadata": {},
   "outputs": [],
   "source": [
    "c_df = pd.concat([apple_simplified, google_simplified, amd_simplified], axis=1)\n",
    "c_df.reset_index(drop=True,inplace=True)\n",
    "c_df.head()\n",
    "c_df[['Date_Apple','Open_Apple','Open_Google','Open_Amd']]"
   ]
  },
  {
   "cell_type": "code",
   "execution_count": null,
   "metadata": {},
   "outputs": [],
   "source": [
    "c_df.plot(x = 'Date_Apple', y=['Open_Apple','Open_Google','Open_Amd'])"
   ]
  },
  {
   "cell_type": "code",
   "execution_count": null,
   "metadata": {},
   "outputs": [],
   "source": []
  }
 ],
 "metadata": {
  "kernelspec": {
   "display_name": "myenv",
   "language": "python",
   "name": "python3"
  },
  "language_info": {
   "codemirror_mode": {
    "name": "ipython",
    "version": 3
   },
   "file_extension": ".py",
   "mimetype": "text/x-python",
   "name": "python",
   "nbconvert_exporter": "python",
   "pygments_lexer": "ipython3",
   "version": "3.10.13"
  },
  "orig_nbformat": 4
 },
 "nbformat": 4,
 "nbformat_minor": 2
}
